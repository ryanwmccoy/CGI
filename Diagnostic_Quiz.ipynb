{
  "nbformat": 4,
  "nbformat_minor": 0,
  "metadata": {
    "colab": {
      "provenance": [],
      "authorship_tag": "ABX9TyNJ7QhZvc68/tNe07vQIHVv",
      "include_colab_link": true
    },
    "kernelspec": {
      "name": "python3",
      "display_name": "Python 3"
    },
    "language_info": {
      "name": "python"
    }
  },
  "cells": [
    {
      "cell_type": "markdown",
      "metadata": {
        "id": "view-in-github",
        "colab_type": "text"
      },
      "source": [
        "<a href=\"https://colab.research.google.com/github/mccoy294/CGI/blob/master/Diagnostic_Quiz.ipynb\" target=\"_parent\"><img src=\"https://colab.research.google.com/assets/colab-badge.svg\" alt=\"Open In Colab\"/></a>"
      ]
    },
    {
      "cell_type": "markdown",
      "source": [
        "#Diagnostic Quiz for QIS Program**\n",
        "\n",
        "Abstract\n",
        "I have shown you where the form is that allows you to interact with this\n",
        "quiz. I have also shown you how to put this quiz together in Colab, and\n",
        "then start writing answers so you can subsequently submit it for credit,\n",
        "in your repository. Below I just enumerate the items in the quiz, so we\n",
        "can use this document as a(n independent, separate format) reference."
      ],
      "metadata": {
        "id": "SkGgGHddMUpW"
      }
    },
    {
      "cell_type": "markdown",
      "source": [
        "#Problem 1: What is the magnitude of $2 - \\sqrt{2}i$?\n",
        "\n",
        "Answer:"
      ],
      "metadata": {
        "id": "D-voqiOoMtOM"
      }
    },
    {
      "cell_type": "markdown",
      "source": [
        "Referencable on page 18 of https://legacy.cs.indiana.edu/~dgerman/2020/boot-camp/mathematics_qm_v21-martin-laforest.pdf, The magnitude and the modulus are the same thing so we can use the equation:\n",
        "\n",
        "\\begin{align}\n",
        "        \\mathbf|z| = \\sqrt(a^2 + b^2)\n",
        "    \\end{align}\n",
        "Where a and b are the real components of the complex number, thus:"
      ],
      "metadata": {
        "id": "gl-LToldUQkj"
      }
    },
    {
      "cell_type": "code",
      "source": [
        "#Instantiate the initial coefficients for the complex number\n",
        "import math\n",
        "\n",
        "a = 2\n",
        "b = -1 *math.sqrt(2)\n",
        "print(\"a = \"+ str(a) +\", b = \"+ str(b))\n"
      ],
      "metadata": {
        "colab": {
          "base_uri": "https://localhost:8080/"
        },
        "id": "Q5jiKGNISHVs",
        "outputId": "a94343b9-3e6e-4fec-c22b-5f324b96c1ba"
      },
      "execution_count": null,
      "outputs": [
        {
          "output_type": "stream",
          "name": "stdout",
          "text": [
            "a = 2, b = -1.4142135623730951\n"
          ]
        }
      ]
    },
    {
      "cell_type": "code",
      "source": [
        "#Taking these from the complex number, we can compute the magnitude:\n",
        "\n",
        "z_squared = a*a + b*b\n",
        "abs_z = math.sqrt(z_squared)\n",
        "\n",
        "print(\"The magnitude of is \"+ str(abs_z))"
      ],
      "metadata": {
        "colab": {
          "base_uri": "https://localhost:8080/"
        },
        "id": "NZyD6Lu1WqOr",
        "outputId": "a8b352aa-4c2e-41e1-9e7a-c27ee8de403a"
      },
      "execution_count": null,
      "outputs": [
        {
          "output_type": "stream",
          "name": "stdout",
          "text": [
            "The magnitude of is 2.449489742783178\n"
          ]
        }
      ]
    },
    {
      "cell_type": "markdown",
      "source": [
        "#Problem 2: What is the complex conjugate of $e^\\frac{\\pi i}{3}$?\n",
        "\n",
        "Answer:"
      ],
      "metadata": {
        "id": "HlerH6atNWgk"
      }
    },
    {
      "cell_type": "code",
      "source": [
        "#Starting the answer\n",
        "\n",
        "#It's known through Eulers equation: e^(theta * i) = cos(theta) + isin(theta)\n",
        "\n",
        "#Therefore: e^(pi/3)i = cos(pi/3) + isin(pi/3)\n",
        "\n",
        "#Additionally, the complex conjugate can be found on page 23 of the martin LaForest document\n",
        "\n",
        "#This makes the conplex conjugate = cos(pi/3)-isin(pi/3)\n",
        "\n",
        "#This can be further exptrapolated to e^-(pi/3)i"
      ],
      "metadata": {
        "id": "Q0cWRrZ7Yfi1"
      },
      "execution_count": 20,
      "outputs": []
    },
    {
      "cell_type": "markdown",
      "source": [
        "#Problem 3:\n",
        "Compute $\\begin{pmatrix}\n",
        "-1&1\\\\\n",
        "3&-1\n",
        "\\end{pmatrix} \\cdot\n",
        "\\begin{pmatrix}\n",
        "0&1\\\\\n",
        "2&0\n",
        "\\end{pmatrix}$\n",
        "\n",
        "Answer:"
      ],
      "metadata": {
        "id": "6VHDD6llNpyE"
      }
    },
    {
      "cell_type": "markdown",
      "source": [
        "Walking through the math, we can determine how to do matrix multiplcation using page 37 of this document https://legacy.cs.indiana.edu/~dgerman/2020/boot-camp/mathematics_qm_v21-martin-laforest.pdf\n",
        "\n"
      ],
      "metadata": {
        "id": "ZU8G_ITvZjcq"
      }
    },
    {
      "cell_type": "markdown",
      "source": [
        "**The top left corner:**\n",
        "\n",
        "Compute $\\begin{pmatrix}\n",
        "-1&1\\\\\n",
        "\\end{pmatrix} \\cdot\n",
        "\\begin{pmatrix}\n",
        "0\\\\\n",
        "2\n",
        "\\end{pmatrix}$\n",
        "\n",
        "Which is equal to $(-1 * 0) + (1*2) = 2$"
      ],
      "metadata": {
        "id": "VVrPCtm8aDd2"
      }
    },
    {
      "cell_type": "markdown",
      "source": [
        "**The top right corner:**\n",
        "\n",
        "Compute $\\begin{pmatrix}\n",
        "-1&1\\\\\n",
        "\\end{pmatrix} \\cdot\n",
        "\\begin{pmatrix}\n",
        "1\\\\\n",
        "0\n",
        "\\end{pmatrix}$\n",
        "\n",
        "Which is equal to $(-1 * 1) + (1*0) = -1$"
      ],
      "metadata": {
        "id": "HZhPZ2cia56n"
      }
    },
    {
      "cell_type": "markdown",
      "source": [
        "**The bottom left corner:**\n",
        "\n",
        "Compute $\\begin{pmatrix}\n",
        "3&-1\\\\\n",
        "\\end{pmatrix} \\cdot\n",
        "\\begin{pmatrix}\n",
        "0\\\\\n",
        "2\n",
        "\\end{pmatrix}$\n",
        "\n",
        "Which is equal to $(3 * 0) + (-1*2) = -2$"
      ],
      "metadata": {
        "id": "gS5ydlT4bTIh"
      }
    },
    {
      "cell_type": "markdown",
      "source": [
        "**The bottom right corner:**\n",
        "\n",
        "Compute $\\begin{pmatrix}\n",
        "3&-1\\\\\n",
        "\\end{pmatrix} \\cdot\n",
        "\\begin{pmatrix}\n",
        "1\\\\\n",
        "0\n",
        "\\end{pmatrix}$\n",
        "\n",
        "Which is equal to $(3 * 1) + (-1*0) = 3$"
      ],
      "metadata": {
        "id": "v2rkq7lBdvhQ"
      }
    },
    {
      "cell_type": "markdown",
      "source": [
        "Calculating these individually, this results in a final matrix of:\n",
        "\n",
        "\n",
        "$\\begin{pmatrix}\n",
        "2&-1\\\\\n",
        "-2&3\n",
        "\\end{pmatrix}$"
      ],
      "metadata": {
        "id": "Bwvjgj9od_j1"
      }
    },
    {
      "cell_type": "code",
      "source": [
        "#Using code to calculate this:\n",
        "\n",
        "import numpy as np\n",
        "\n",
        "# two dimensional arrays\n",
        "m1 = np.array([[-1,1],[3,-1]])\n",
        "m2 = np.array([[0,1],[2,0]])\n",
        "m3 = np.dot(m1,m2)\n",
        "print(m3)"
      ],
      "metadata": {
        "colab": {
          "base_uri": "https://localhost:8080/"
        },
        "id": "VcnsL3y0ekpB",
        "outputId": "6f21133a-d3e4-4f0a-d771-ed8de0ac38c9"
      },
      "execution_count": null,
      "outputs": [
        {
          "output_type": "stream",
          "name": "stdout",
          "text": [
            "[[ 2 -1]\n",
            " [-2  3]]\n"
          ]
        }
      ]
    },
    {
      "cell_type": "markdown",
      "source": [
        "#Problem 4: Determine which pairs of matrices below commute.\n",
        "\n",
        "**(Matrices $A$ and $B$ are said to commute if $AB=BA$).**\n",
        "\n",
        "(a) $$ \\begin{pmatrix}\n",
        "0 & 1\\\\\n",
        "1 & 0\n",
        "\\end{pmatrix} \\textrm{and} \\begin{pmatrix}\n",
        "1 & 0\\\\\n",
        "0 & 1\n",
        "\\end{pmatrix}$$\n",
        "\n",
        "(b) $$\\begin{pmatrix}\n",
        "0 & 1\\\\\n",
        "1 & 0\n",
        "\\end{pmatrix} \\textrm{and} \\begin{pmatrix}\n",
        "1 & 0\\\\\n",
        "0 & -1\n",
        "\\end{pmatrix}$$\n",
        "\n",
        "(c) $$\\begin{pmatrix}\n",
        "1 & 1\\\\\n",
        "1 & -1\n",
        "\\end{pmatrix} \\textrm{and} \\begin{pmatrix}\n",
        "0 & 1\\\\\n",
        "1 & 0\n",
        "\\end{pmatrix}$$\n",
        "\n",
        "(d) $$\\begin{pmatrix}\n",
        "1 & 1\\\\\n",
        "1 & -1\n",
        "\\end{pmatrix} \\textrm{and} \\begin{pmatrix}\n",
        "1 & 0\\\\\n",
        "0 & 1\n",
        "\\end{pmatrix}$$\n",
        "\n",
        "(e) $$\\begin{pmatrix}\n",
        "2 & 0\\\\\n",
        "0 & -1\n",
        "\\end{pmatrix} \\textrm{and} \\begin{pmatrix}\n",
        "3 & 0\\\\\n",
        "0 & 2\n",
        "\\end{pmatrix}$$\n",
        "\n",
        "**Please let me know though what the values of AB and BA are and how\n",
        "you calculated those. Do you see any shortcuts?**\n",
        "\n",
        "Answer:"
      ],
      "metadata": {
        "id": "bhiz5sYVNr5x"
      }
    },
    {
      "cell_type": "markdown",
      "source": [
        "Using matrix multiplication, we can figure these out very quickly\n",
        "\n",
        "**Takeaways:\n",
        "1. If the identity matrix is either A or B, then the matrix multiplication will be commutative.\n",
        "2. When the matrix is 0 and 1 on the diagonal, the matrix multiplcation will be commutative\n"
      ],
      "metadata": {
        "id": "lE9zFLL4ggt_"
      }
    },
    {
      "cell_type": "code",
      "source": [
        "#a\n",
        "import numpy as np\n",
        "\n",
        "# two dimensional arrays\n",
        "a1 = np.array([[0,1],[1,0]])\n",
        "a2 = np.array([[1,0],[0,1]])\n",
        "a3 = np.dot(a1,a2)\n",
        "a4 = np.dot(a2,a1)\n",
        "\n",
        "print(\"matrix 1 is: \" + str(a3))\n",
        "print(\"matrix 2 is: \" +str(a4))\n",
        "\n",
        "#Test if a3 which is AB is equal to a4 which is BA\n",
        "if (a3.all == a4.all):\n",
        "  print(\"These matrices commute!\")\n",
        "else:\n",
        "  print(\"These matrices do not commute!\")"
      ],
      "metadata": {
        "colab": {
          "base_uri": "https://localhost:8080/"
        },
        "id": "VEEE_eaBgUJS",
        "outputId": "8b8894ac-6446-4a15-ad7e-216aa8311fc8"
      },
      "execution_count": 3,
      "outputs": [
        {
          "output_type": "stream",
          "name": "stdout",
          "text": [
            "matrix 1 is: [[0 1]\n",
            " [1 0]]\n",
            "matrix 2 is: [[0 1]\n",
            " [1 0]]\n",
            "These matrices commute!\n"
          ]
        }
      ]
    },
    {
      "cell_type": "code",
      "source": [
        "#b\n",
        "import numpy as np\n",
        "\n",
        "# two dimensional arrays\n",
        "b1 = np.array([[0,1],[1,0]])\n",
        "b2 = np.array([[1,0],[0,-1]])\n",
        "b3 = np.dot(b1,b2)\n",
        "b4 = np.dot(b2,b1)\n",
        "\n",
        "print(\"matrix 1 is: \" + str(b3))\n",
        "print(\"matrix 2 is: \" +str(b4))\n",
        "\n",
        "#Test if a3 which is AB is equal to a4 which is BA\n",
        "if (b3.all == b4.all):\n",
        "  print(\"These matrices commute!\")\n",
        "else:\n",
        "  print(\"These matrices do not commute!\")"
      ],
      "metadata": {
        "colab": {
          "base_uri": "https://localhost:8080/"
        },
        "id": "qqDc-_SzhizG",
        "outputId": "36922e8b-c35e-4533-a6f1-a23751727092"
      },
      "execution_count": 7,
      "outputs": [
        {
          "output_type": "stream",
          "name": "stdout",
          "text": [
            "matrix 1 is: [[ 0 -1]\n",
            " [ 1  0]]\n",
            "matrix 2 is: [[ 0  1]\n",
            " [-1  0]]\n",
            "These matrices do not commute!\n"
          ]
        }
      ]
    },
    {
      "cell_type": "code",
      "source": [
        "#c\n",
        "import numpy as np\n",
        "\n",
        "# two dimensional arrays\n",
        "c1 = np.array([[1,1],[1,-1]])\n",
        "c2 = np.array([[0,1],[1,0]])\n",
        "c3 = np.dot(c1,c2)\n",
        "c4 = np.dot(c2,c1)\n",
        "\n",
        "print(\"matrix 1 is: \" + str(c3))\n",
        "print(\"matrix 2 is: \" +str(c4))\n",
        "\n",
        "#Test if a3 which is AB is equal to a4 which is BA\n",
        "if (c3.all == c4.all):\n",
        "  print(\"These matrices commute!\")\n",
        "else:\n",
        "  print(\"These matrices do not commute!\")"
      ],
      "metadata": {
        "colab": {
          "base_uri": "https://localhost:8080/"
        },
        "id": "5oN2fRJzhvDN",
        "outputId": "38926d59-4868-4f7a-fc5d-ec81697ab5ca"
      },
      "execution_count": 11,
      "outputs": [
        {
          "output_type": "stream",
          "name": "stdout",
          "text": [
            "matrix 1 is: [[ 1  1]\n",
            " [-1  1]]\n",
            "matrix 2 is: [[ 1 -1]\n",
            " [ 1  1]]\n",
            "These matrices do not commute!\n"
          ]
        }
      ]
    },
    {
      "cell_type": "code",
      "source": [
        "#d\n",
        "import numpy as np\n",
        "\n",
        "# two dimensional arrays\n",
        "d1 = np.array([[1,1],[1,-1]])\n",
        "d2 = np.array([[1,0],[0,1]])\n",
        "d3 = np.dot(d1,d2)\n",
        "d4 = np.dot(d2,d1)\n",
        "\n",
        "print(\"matrix 1 is: \" + str(d3))\n",
        "print(\"matrix 2 is: \" +str(d4))\n",
        "\n",
        "#Test if a3 which is AB is equal to a4 which is BA\n",
        "if (d3.all() == d4.all()):\n",
        "  print(\"These matrices commute!\")\n",
        "else:\n",
        "  print(\"These matrices do not commute!\")"
      ],
      "metadata": {
        "colab": {
          "base_uri": "https://localhost:8080/"
        },
        "id": "V_xKynj_ib3K",
        "outputId": "0577ff80-6184-415c-9f34-96929fb82788"
      },
      "execution_count": 15,
      "outputs": [
        {
          "output_type": "stream",
          "name": "stdout",
          "text": [
            "matrix 1 is: [[ 1  1]\n",
            " [ 1 -1]]\n",
            "matrix 2 is: [[ 1  1]\n",
            " [ 1 -1]]\n",
            "These matrices commute!\n"
          ]
        }
      ]
    },
    {
      "cell_type": "code",
      "source": [
        "#e\n",
        "import numpy as np\n",
        "\n",
        "# two dimensional arrays\n",
        "e1 = np.array([[2,0],[0,-1]])\n",
        "e2 = np.array([[3,0],[0,2]])\n",
        "e3 = np.dot(e1,e2)\n",
        "e4 = np.dot(e2,e1)\n",
        "\n",
        "print(\"matrix 1 is: \" + str(e3))\n",
        "print(\"matrix 2 is: \" +str(e4))\n",
        "\n",
        "#Test if a3 which is AB is equal to a4 which is BA\n",
        "if (e3.any() == e4.any()):\n",
        "  print(\"These matrices commute!\")\n",
        "else:\n",
        "  print(\"These matrices do not commute!\")"
      ],
      "metadata": {
        "colab": {
          "base_uri": "https://localhost:8080/"
        },
        "id": "V0Trb9NDi0_8",
        "outputId": "95f91404-8162-43e4-a595-172ebadbd5a8"
      },
      "execution_count": 19,
      "outputs": [
        {
          "output_type": "stream",
          "name": "stdout",
          "text": [
            "matrix 1 is: [[ 6  0]\n",
            " [ 0 -2]]\n",
            "matrix 2 is: [[ 6  0]\n",
            " [ 0 -2]]\n",
            "These matrices commute!\n"
          ]
        }
      ]
    },
    {
      "cell_type": "markdown",
      "source": [
        "# Problem 5: What is (i.e., determine) a unit vector in $\\mathbb{R}^2$ that makes a $\\frac{\\pi}{4}$ angle with both the $x$- and $y$-axes?\n",
        "\n",
        "Answer:"
      ],
      "metadata": {
        "id": "eYVovwtXN4r_"
      }
    },
    {
      "cell_type": "markdown",
      "source": [
        "In the $\\mathbb{R}^2$ space, we are able to use the unit circle to determine the vector that will produce a $\\frac{\\pi}{4}$ angle. From the x and the y axis, this will yield the point $(\\frac{\\sqrt2}{2},\\frac{\\sqrt2}{2})$.\n",
        "\n",
        "We can double check that this is the unit vector by checking the magnitude and making sure it's equal to 1. Thus:\n",
        "\n",
        "$\\sqrt((\\frac{\\sqrt2}{2})^2 + \\frac{\\sqrt2}{2})^2) = \\sqrt((\\frac{2}{4}) + \\frac{2}{4})) = 1$\n",
        "\n",
        "Therefore $<\\frac{\\sqrt2}{2},\\frac{\\sqrt2}{2}>$ is a unit vector that makes a $\\frac{\\pi}{4}$ angle with both the x and y axis."
      ],
      "metadata": {
        "id": "Da3Tm3WV-sCu"
      }
    },
    {
      "cell_type": "markdown",
      "source": [
        "#Problem 6:What is a real unit vector in\n",
        "#$\\mathbb{R}^2$ orthogonal to$ \\begin{pmatrix}\n",
        "\\frac{1}{\\sqrt{3}}\\\\[0.5ex]\n",
        "\\frac{\\sqrt{2}}{\\sqrt{3}}\n",
        "\\end{pmatrix}$?\n",
        "\n",
        "Answer:"
      ],
      "metadata": {
        "id": "mo5B7ZUUN7Zg"
      }
    },
    {
      "cell_type": "markdown",
      "source": [
        "In order for a unit vector to be orthogonal to a vector, two steps must occur:\n",
        "1. The initial vector for comparison must be a unit vector\n",
        "2. The dot product of the orthogonal vector and the initial vector must be 0.\n",
        "\n",
        "First, determining that the initial vector is a unit vector,\n",
        "\n",
        "$\\sqrt((\\frac{1}{\\sqrt3})^2 + \\frac{\\sqrt2}{\\sqrt3})^2) = \\sqrt((\\frac{1}{3}) + \\frac{2}{3})) = 1$\n",
        "\n",
        "Step 1 has been verified.\n",
        "\n",
        "Next to verify step 2:\n",
        "\n",
        "$\\frac{1}{\\sqrt3} * x + \\frac{\\sqrt2}{\\sqrt3}*y = 0$\n"
      ],
      "metadata": {
        "id": "iYWrvIZzCIaY"
      }
    },
    {
      "cell_type": "markdown",
      "source": [
        "#Problem 7: What is the inner product\n",
        "#between the vectors $\\begin{pmatrix}\n",
        "\\frac{\\sqrt{3}}{2}\\\\[0.5ex]\n",
        "\\frac{1}{2}\n",
        "\\end{pmatrix} \\textrm{and}\n",
        "\\begin{pmatrix}\n",
        "\\frac{1}{2}\\\\[0.5ex]\n",
        "\\frac{\\sqrt{3}}{2}\n",
        "\\end{pmatrix}$ ?\n",
        "\n",
        "Answer:"
      ],
      "metadata": {
        "id": "yE4OOckXOCzK"
      }
    },
    {
      "cell_type": "markdown",
      "source": [
        "Found on page 50 of the Martin - Laforest book, we can solve for the inner product or \\(Dot Product\\).\n",
        "\n",
        "$\\begin{pmatrix}\n",
        "\\frac{\\sqrt{3}}{2}\\\\[0.5ex]\n",
        "\\frac{1}{2}\n",
        "\\end{pmatrix} \\textrm{and}\n",
        "\\begin{pmatrix}\n",
        "\\frac{1}{2}\\\\[0.5ex]\n",
        "\\frac{\\sqrt{3}}{2}\n",
        "\\end{pmatrix} = \\begin{pmatrix}\n",
        "\\frac{\\sqrt{3}}{2}\\\\[0.5ex]\n",
        "\\frac{1}{2}\n",
        "\\end{pmatrix} * \\begin{pmatrix}\n",
        "\\frac{1}{2}\\\\[0.5ex]\n",
        "\\frac{\\sqrt{3}}{2}\n",
        "\\end{pmatrix}$\n",
        "\n",
        "$\\begin{pmatrix}\n",
        "\\frac{\\sqrt{3}}{2}\\\\[0.5ex]\n",
        "\\frac{1}{2}\n",
        "\\end{pmatrix} * \\begin{pmatrix}\n",
        "\\frac{1}{2}\\frac{\\sqrt{3}}{2}\n",
        "\\end{pmatrix}$\n",
        "\n",
        "$\\frac{\\sqrt{3}}{2} * \\frac{1}{2} + \\frac{1}{2}*\\frac{\\sqrt{3}}{2} =$\n",
        "$\\frac{\\sqrt{3}}{4} + \\frac{\\sqrt{3}}{4} = $\n",
        "$\\frac{2\\sqrt{3}}{4} = \\frac{\\sqrt{3}}{2}$"
      ],
      "metadata": {
        "id": "_wK26NK8F24j"
      }
    },
    {
      "cell_type": "markdown",
      "source": [
        "#Problem 8: And what is the angle between the two vectors in degrees?\n",
        "$\\begin{pmatrix}\n",
        "\\frac{\\sqrt{3}}{2}\\\\[0.5ex]\n",
        "\\frac{1}{2}\n",
        "\\end{pmatrix} \\textrm{and}\n",
        "\\begin{pmatrix}\n",
        "\\frac{1}{2}\\\\[0.5ex]\n",
        "\\frac{\\sqrt{3}}{2}\n",
        "\\end{pmatrix}$\n",
        "\n",
        "\n",
        "\n",
        "\n",
        "Answer:"
      ],
      "metadata": {
        "id": "FEXDRgYcOHcG"
      }
    },
    {
      "cell_type": "markdown",
      "source": [
        "The first step in determining the angle between two vectors is to find the dot product. Since this was found in the previous problem, we can save a few computations and see that the dot product is $\\frac{\\sqrt3}{2}$.\n",
        "\n",
        "Step 2 is to find the magnitudes of each vector. Assinging the corresponding vectors to varaiables a & b respectively.\n",
        "\n",
        "Thus: a = $\\begin{pmatrix}\n",
        "\\frac{\\sqrt{3}}{2}\\\\[0.5ex]\n",
        "\\frac{1}{2}\n",
        "\\end{pmatrix}$ and b = $\\begin{pmatrix}\n",
        "\\frac{1}{2}\\\\[0.5ex]\n",
        "\\frac{\\sqrt{3}}{2}\n",
        "\\end{pmatrix}$.\n",
        "\n",
        "The magnitudes are respectively:\n",
        "$|a| = 1$ and $|b| = 1$.\n",
        "\n",
        "Thirdly, using the cos eqation, we can use some math manipulation and arrive at $\\theta = cos^-1(\\frac{a*b}{|a|*|b|})$\n",
        "\n",
        "Filling in the numbers from the previous steps,\n",
        "$\\theta = cos^-1(\\frac{\\begin{pmatrix}\n",
        "\\frac{\\sqrt{3}}{2}\\\\[0.5ex]\n",
        "\\frac{1}{2}\n",
        "\\end{pmatrix}*\\begin{pmatrix}\n",
        "\\frac{1}{2}\\\\[0.5ex]\n",
        "\\frac{\\sqrt{3}}{2}\n",
        "\\end{pmatrix}}{|1|*|1|}) = $\n",
        "\n",
        "$\\theta = cos^-1(\\frac{\\sqrt3}{2})$\n",
        "\n",
        "Again using the unit circle, we can see that this corresponds to $\\frac{\\pi}{6}$ or approximately, $30^\\circ$"
      ],
      "metadata": {
        "id": "4yaCso4gMTxH"
      }
    },
    {
      "cell_type": "markdown",
      "source": [
        "#Problem 9: Determine the eigenvalues of the matrix $\n",
        "\\begin{pmatrix}\n",
        "0&1\\\\\n",
        "1&0\n",
        "\\end{pmatrix} $\n",
        "\n",
        "Answer:"
      ],
      "metadata": {
        "id": "LxULig6NOLdf"
      }
    },
    {
      "cell_type": "markdown",
      "source": [
        "#Problem 10: Determine the eigenvector corresponding to the largest eigenvalue of the above matrix.\n",
        "\n",
        "#What other eigenvectors does the matrix have?\n",
        "\n",
        "Answer:"
      ],
      "metadata": {
        "id": "Vo8PiJvrOOND"
      }
    },
    {
      "cell_type": "code",
      "execution_count": null,
      "metadata": {
        "id": "sB50UpsKMJBv"
      },
      "outputs": [],
      "source": []
    }
  ]
}